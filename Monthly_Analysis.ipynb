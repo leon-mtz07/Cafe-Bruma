{
 "cells": [
  {
   "metadata": {},
   "cell_type": "markdown",
   "source": [
    "# **Análisis Mensual**\n",
    "\n",
    "En este proyecto se trabajarán las siguientes tareas:\n",
    "- Resumen ejecutivo:\n",
    "    - Ventas totales del mes.\n",
    "    - % de crecimiento o disminución al mes anterior.\n",
    "    - Producto estrella.\n",
    "    - Día más fuerte.\n",
    "    - Recomendación clave.\n",
    "- Ventas:\n",
    "    - Ingresos por día/semana.\n",
    "    - Promedio de ticket por cliente.\n",
    "    - Número de clientes atendidos.\n",
    "    - Top 5 productos vendidos.\n",
    "- Clientes y Consumo:\n",
    "    - Horas pico de consumo.\n",
    "    - Productos más comprados."
   ],
   "id": "6c5a358bb8a3d59d"
  },
  {
   "cell_type": "code",
   "id": "initial_id",
   "metadata": {
    "collapsed": true,
    "ExecuteTime": {
     "end_time": "2025-09-28T00:38:30.058672Z",
     "start_time": "2025-09-28T00:38:30.052207Z"
    }
   },
   "source": [
    "# Importando libreías\n",
    "import pandas as pd\n",
    "import openpyxl\n",
    "import matplotlib.pyplot as plt\n",
    "import seaborn as sns\n",
    "import numpy as np"
   ],
   "outputs": [],
   "execution_count": 56
  },
  {
   "metadata": {
    "ExecuteTime": {
     "end_time": "2025-09-27T23:41:08.756224Z",
     "start_time": "2025-09-27T23:41:08.342970Z"
    }
   },
   "cell_type": "code",
   "source": [
    "# Leyendo dataset\n",
    "df = pd.read_excel('Data/Coffe_sales.xlsx')\n",
    "df"
   ],
   "id": "fcfcb016c3a621e3",
   "outputs": [
    {
     "data": {
      "text/plain": [
       "           date                datetime  hour_of_day cash_type  \\\n",
       "0    2024-03-01 2024-03-01 10:15:50.520           10      card   \n",
       "1    2024-03-01 2024-03-01 12:19:22.539           12      card   \n",
       "2    2024-03-01 2024-03-01 12:20:18.089           12      card   \n",
       "3    2024-03-01 2024-03-01 13:46:33.006           13      card   \n",
       "4    2024-03-01 2024-03-01 13:48:14.626           13      card   \n",
       "...         ...                     ...          ...       ...   \n",
       "3631 2025-03-23 2025-03-23 10:34:54.894           10      card   \n",
       "3632 2025-03-23 2025-03-23 14:43:37.362           14      card   \n",
       "3633 2025-03-23 2025-03-23 14:44:16.864           14      card   \n",
       "3634 2025-03-23 2025-03-23 15:47:28.723           15      card   \n",
       "3635 2025-03-23 2025-03-23 18:11:38.635           18      card   \n",
       "\n",
       "                     card  money    coffee_name Time_of_Day Weekday  \\\n",
       "0     ANON-0000-0000-0001  38.70          Latte     Morning     Fri   \n",
       "1     ANON-0000-0000-0002  38.70  Hot Chocolate   Afternoon     Fri   \n",
       "2     ANON-0000-0000-0002  38.70  Hot Chocolate   Afternoon     Fri   \n",
       "3     ANON-0000-0000-0003  28.90      Americano   Afternoon     Fri   \n",
       "4     ANON-0000-0000-0004  38.70          Latte   Afternoon     Fri   \n",
       "...                   ...    ...            ...         ...     ...   \n",
       "3631  ANON-0000-0000-1158  35.76     Cappuccino     Morning     Sun   \n",
       "3632  ANON-0000-0000-1315  35.76          Cocoa   Afternoon     Sun   \n",
       "3633  ANON-0000-0000-1315  35.76          Cocoa   Afternoon     Sun   \n",
       "3634  ANON-0000-0000-1316  25.96      Americano   Afternoon     Sun   \n",
       "3635  ANON-0000-0000-1275  35.76          Latte       Night     Sun   \n",
       "\n",
       "     Month_name  Weekdaysort  Monthsort  \n",
       "0           Mar            5          3  \n",
       "1           Mar            5          3  \n",
       "2           Mar            5          3  \n",
       "3           Mar            5          3  \n",
       "4           Mar            5          3  \n",
       "...         ...          ...        ...  \n",
       "3631        Mar            7          3  \n",
       "3632        Mar            7          3  \n",
       "3633        Mar            7          3  \n",
       "3634        Mar            7          3  \n",
       "3635        Mar            7          3  \n",
       "\n",
       "[3636 rows x 12 columns]"
      ],
      "text/html": [
       "<div>\n",
       "<style scoped>\n",
       "    .dataframe tbody tr th:only-of-type {\n",
       "        vertical-align: middle;\n",
       "    }\n",
       "\n",
       "    .dataframe tbody tr th {\n",
       "        vertical-align: top;\n",
       "    }\n",
       "\n",
       "    .dataframe thead th {\n",
       "        text-align: right;\n",
       "    }\n",
       "</style>\n",
       "<table border=\"1\" class=\"dataframe\">\n",
       "  <thead>\n",
       "    <tr style=\"text-align: right;\">\n",
       "      <th></th>\n",
       "      <th>date</th>\n",
       "      <th>datetime</th>\n",
       "      <th>hour_of_day</th>\n",
       "      <th>cash_type</th>\n",
       "      <th>card</th>\n",
       "      <th>money</th>\n",
       "      <th>coffee_name</th>\n",
       "      <th>Time_of_Day</th>\n",
       "      <th>Weekday</th>\n",
       "      <th>Month_name</th>\n",
       "      <th>Weekdaysort</th>\n",
       "      <th>Monthsort</th>\n",
       "    </tr>\n",
       "  </thead>\n",
       "  <tbody>\n",
       "    <tr>\n",
       "      <th>0</th>\n",
       "      <td>2024-03-01</td>\n",
       "      <td>2024-03-01 10:15:50.520</td>\n",
       "      <td>10</td>\n",
       "      <td>card</td>\n",
       "      <td>ANON-0000-0000-0001</td>\n",
       "      <td>38.70</td>\n",
       "      <td>Latte</td>\n",
       "      <td>Morning</td>\n",
       "      <td>Fri</td>\n",
       "      <td>Mar</td>\n",
       "      <td>5</td>\n",
       "      <td>3</td>\n",
       "    </tr>\n",
       "    <tr>\n",
       "      <th>1</th>\n",
       "      <td>2024-03-01</td>\n",
       "      <td>2024-03-01 12:19:22.539</td>\n",
       "      <td>12</td>\n",
       "      <td>card</td>\n",
       "      <td>ANON-0000-0000-0002</td>\n",
       "      <td>38.70</td>\n",
       "      <td>Hot Chocolate</td>\n",
       "      <td>Afternoon</td>\n",
       "      <td>Fri</td>\n",
       "      <td>Mar</td>\n",
       "      <td>5</td>\n",
       "      <td>3</td>\n",
       "    </tr>\n",
       "    <tr>\n",
       "      <th>2</th>\n",
       "      <td>2024-03-01</td>\n",
       "      <td>2024-03-01 12:20:18.089</td>\n",
       "      <td>12</td>\n",
       "      <td>card</td>\n",
       "      <td>ANON-0000-0000-0002</td>\n",
       "      <td>38.70</td>\n",
       "      <td>Hot Chocolate</td>\n",
       "      <td>Afternoon</td>\n",
       "      <td>Fri</td>\n",
       "      <td>Mar</td>\n",
       "      <td>5</td>\n",
       "      <td>3</td>\n",
       "    </tr>\n",
       "    <tr>\n",
       "      <th>3</th>\n",
       "      <td>2024-03-01</td>\n",
       "      <td>2024-03-01 13:46:33.006</td>\n",
       "      <td>13</td>\n",
       "      <td>card</td>\n",
       "      <td>ANON-0000-0000-0003</td>\n",
       "      <td>28.90</td>\n",
       "      <td>Americano</td>\n",
       "      <td>Afternoon</td>\n",
       "      <td>Fri</td>\n",
       "      <td>Mar</td>\n",
       "      <td>5</td>\n",
       "      <td>3</td>\n",
       "    </tr>\n",
       "    <tr>\n",
       "      <th>4</th>\n",
       "      <td>2024-03-01</td>\n",
       "      <td>2024-03-01 13:48:14.626</td>\n",
       "      <td>13</td>\n",
       "      <td>card</td>\n",
       "      <td>ANON-0000-0000-0004</td>\n",
       "      <td>38.70</td>\n",
       "      <td>Latte</td>\n",
       "      <td>Afternoon</td>\n",
       "      <td>Fri</td>\n",
       "      <td>Mar</td>\n",
       "      <td>5</td>\n",
       "      <td>3</td>\n",
       "    </tr>\n",
       "    <tr>\n",
       "      <th>...</th>\n",
       "      <td>...</td>\n",
       "      <td>...</td>\n",
       "      <td>...</td>\n",
       "      <td>...</td>\n",
       "      <td>...</td>\n",
       "      <td>...</td>\n",
       "      <td>...</td>\n",
       "      <td>...</td>\n",
       "      <td>...</td>\n",
       "      <td>...</td>\n",
       "      <td>...</td>\n",
       "      <td>...</td>\n",
       "    </tr>\n",
       "    <tr>\n",
       "      <th>3631</th>\n",
       "      <td>2025-03-23</td>\n",
       "      <td>2025-03-23 10:34:54.894</td>\n",
       "      <td>10</td>\n",
       "      <td>card</td>\n",
       "      <td>ANON-0000-0000-1158</td>\n",
       "      <td>35.76</td>\n",
       "      <td>Cappuccino</td>\n",
       "      <td>Morning</td>\n",
       "      <td>Sun</td>\n",
       "      <td>Mar</td>\n",
       "      <td>7</td>\n",
       "      <td>3</td>\n",
       "    </tr>\n",
       "    <tr>\n",
       "      <th>3632</th>\n",
       "      <td>2025-03-23</td>\n",
       "      <td>2025-03-23 14:43:37.362</td>\n",
       "      <td>14</td>\n",
       "      <td>card</td>\n",
       "      <td>ANON-0000-0000-1315</td>\n",
       "      <td>35.76</td>\n",
       "      <td>Cocoa</td>\n",
       "      <td>Afternoon</td>\n",
       "      <td>Sun</td>\n",
       "      <td>Mar</td>\n",
       "      <td>7</td>\n",
       "      <td>3</td>\n",
       "    </tr>\n",
       "    <tr>\n",
       "      <th>3633</th>\n",
       "      <td>2025-03-23</td>\n",
       "      <td>2025-03-23 14:44:16.864</td>\n",
       "      <td>14</td>\n",
       "      <td>card</td>\n",
       "      <td>ANON-0000-0000-1315</td>\n",
       "      <td>35.76</td>\n",
       "      <td>Cocoa</td>\n",
       "      <td>Afternoon</td>\n",
       "      <td>Sun</td>\n",
       "      <td>Mar</td>\n",
       "      <td>7</td>\n",
       "      <td>3</td>\n",
       "    </tr>\n",
       "    <tr>\n",
       "      <th>3634</th>\n",
       "      <td>2025-03-23</td>\n",
       "      <td>2025-03-23 15:47:28.723</td>\n",
       "      <td>15</td>\n",
       "      <td>card</td>\n",
       "      <td>ANON-0000-0000-1316</td>\n",
       "      <td>25.96</td>\n",
       "      <td>Americano</td>\n",
       "      <td>Afternoon</td>\n",
       "      <td>Sun</td>\n",
       "      <td>Mar</td>\n",
       "      <td>7</td>\n",
       "      <td>3</td>\n",
       "    </tr>\n",
       "    <tr>\n",
       "      <th>3635</th>\n",
       "      <td>2025-03-23</td>\n",
       "      <td>2025-03-23 18:11:38.635</td>\n",
       "      <td>18</td>\n",
       "      <td>card</td>\n",
       "      <td>ANON-0000-0000-1275</td>\n",
       "      <td>35.76</td>\n",
       "      <td>Latte</td>\n",
       "      <td>Night</td>\n",
       "      <td>Sun</td>\n",
       "      <td>Mar</td>\n",
       "      <td>7</td>\n",
       "      <td>3</td>\n",
       "    </tr>\n",
       "  </tbody>\n",
       "</table>\n",
       "<p>3636 rows × 12 columns</p>\n",
       "</div>"
      ]
     },
     "execution_count": 4,
     "metadata": {},
     "output_type": "execute_result"
    }
   ],
   "execution_count": 4
  },
  {
   "metadata": {},
   "cell_type": "markdown",
   "source": "## **Iniciando analisis**",
   "id": "316e3eee6d61502c"
  },
  {
   "metadata": {
    "ExecuteTime": {
     "end_time": "2025-09-27T23:55:41.734159Z",
     "start_time": "2025-09-27T23:55:41.706635Z"
    }
   },
   "cell_type": "code",
   "source": [
    "df_LM = df[(df['date'].dt.year == 2025) & (df['date'].dt.month == 3)].copy()\n",
    "df_LM"
   ],
   "id": "773efc8e9f9c831b",
   "outputs": [
    {
     "data": {
      "text/plain": [
       "           date                datetime  hour_of_day cash_type  \\\n",
       "3317 2025-03-01 2025-03-01 10:31:45.742           10      card   \n",
       "3318 2025-03-01 2025-03-01 11:24:04.507           11      card   \n",
       "3319 2025-03-01 2025-03-01 11:27:58.402           11      card   \n",
       "3320 2025-03-01 2025-03-01 14:43:23.827           14      card   \n",
       "3321 2025-03-01 2025-03-01 15:02:31.500           15      card   \n",
       "...         ...                     ...          ...       ...   \n",
       "3631 2025-03-23 2025-03-23 10:34:54.894           10      card   \n",
       "3632 2025-03-23 2025-03-23 14:43:37.362           14      card   \n",
       "3633 2025-03-23 2025-03-23 14:44:16.864           14      card   \n",
       "3634 2025-03-23 2025-03-23 15:47:28.723           15      card   \n",
       "3635 2025-03-23 2025-03-23 18:11:38.635           18      card   \n",
       "\n",
       "                     card  money coffee_name Time_of_Day Weekday Month_name  \\\n",
       "3317  ANON-0000-0000-1184  35.76  Cappuccino     Morning     Sat        Mar   \n",
       "3318  ANON-0000-0000-1190  25.96   Americano     Morning     Sat        Mar   \n",
       "3319  ANON-0000-0000-1198  25.96   Americano     Morning     Sat        Mar   \n",
       "3320  ANON-0000-0000-1254  35.76       Latte   Afternoon     Sat        Mar   \n",
       "3321  ANON-0000-0000-1152  25.96   Americano   Afternoon     Sat        Mar   \n",
       "...                   ...    ...         ...         ...     ...        ...   \n",
       "3631  ANON-0000-0000-1158  35.76  Cappuccino     Morning     Sun        Mar   \n",
       "3632  ANON-0000-0000-1315  35.76       Cocoa   Afternoon     Sun        Mar   \n",
       "3633  ANON-0000-0000-1315  35.76       Cocoa   Afternoon     Sun        Mar   \n",
       "3634  ANON-0000-0000-1316  25.96   Americano   Afternoon     Sun        Mar   \n",
       "3635  ANON-0000-0000-1275  35.76       Latte       Night     Sun        Mar   \n",
       "\n",
       "      Weekdaysort  Monthsort  \n",
       "3317            6          3  \n",
       "3318            6          3  \n",
       "3319            6          3  \n",
       "3320            6          3  \n",
       "3321            6          3  \n",
       "...           ...        ...  \n",
       "3631            7          3  \n",
       "3632            7          3  \n",
       "3633            7          3  \n",
       "3634            7          3  \n",
       "3635            7          3  \n",
       "\n",
       "[319 rows x 12 columns]"
      ],
      "text/html": [
       "<div>\n",
       "<style scoped>\n",
       "    .dataframe tbody tr th:only-of-type {\n",
       "        vertical-align: middle;\n",
       "    }\n",
       "\n",
       "    .dataframe tbody tr th {\n",
       "        vertical-align: top;\n",
       "    }\n",
       "\n",
       "    .dataframe thead th {\n",
       "        text-align: right;\n",
       "    }\n",
       "</style>\n",
       "<table border=\"1\" class=\"dataframe\">\n",
       "  <thead>\n",
       "    <tr style=\"text-align: right;\">\n",
       "      <th></th>\n",
       "      <th>date</th>\n",
       "      <th>datetime</th>\n",
       "      <th>hour_of_day</th>\n",
       "      <th>cash_type</th>\n",
       "      <th>card</th>\n",
       "      <th>money</th>\n",
       "      <th>coffee_name</th>\n",
       "      <th>Time_of_Day</th>\n",
       "      <th>Weekday</th>\n",
       "      <th>Month_name</th>\n",
       "      <th>Weekdaysort</th>\n",
       "      <th>Monthsort</th>\n",
       "    </tr>\n",
       "  </thead>\n",
       "  <tbody>\n",
       "    <tr>\n",
       "      <th>3317</th>\n",
       "      <td>2025-03-01</td>\n",
       "      <td>2025-03-01 10:31:45.742</td>\n",
       "      <td>10</td>\n",
       "      <td>card</td>\n",
       "      <td>ANON-0000-0000-1184</td>\n",
       "      <td>35.76</td>\n",
       "      <td>Cappuccino</td>\n",
       "      <td>Morning</td>\n",
       "      <td>Sat</td>\n",
       "      <td>Mar</td>\n",
       "      <td>6</td>\n",
       "      <td>3</td>\n",
       "    </tr>\n",
       "    <tr>\n",
       "      <th>3318</th>\n",
       "      <td>2025-03-01</td>\n",
       "      <td>2025-03-01 11:24:04.507</td>\n",
       "      <td>11</td>\n",
       "      <td>card</td>\n",
       "      <td>ANON-0000-0000-1190</td>\n",
       "      <td>25.96</td>\n",
       "      <td>Americano</td>\n",
       "      <td>Morning</td>\n",
       "      <td>Sat</td>\n",
       "      <td>Mar</td>\n",
       "      <td>6</td>\n",
       "      <td>3</td>\n",
       "    </tr>\n",
       "    <tr>\n",
       "      <th>3319</th>\n",
       "      <td>2025-03-01</td>\n",
       "      <td>2025-03-01 11:27:58.402</td>\n",
       "      <td>11</td>\n",
       "      <td>card</td>\n",
       "      <td>ANON-0000-0000-1198</td>\n",
       "      <td>25.96</td>\n",
       "      <td>Americano</td>\n",
       "      <td>Morning</td>\n",
       "      <td>Sat</td>\n",
       "      <td>Mar</td>\n",
       "      <td>6</td>\n",
       "      <td>3</td>\n",
       "    </tr>\n",
       "    <tr>\n",
       "      <th>3320</th>\n",
       "      <td>2025-03-01</td>\n",
       "      <td>2025-03-01 14:43:23.827</td>\n",
       "      <td>14</td>\n",
       "      <td>card</td>\n",
       "      <td>ANON-0000-0000-1254</td>\n",
       "      <td>35.76</td>\n",
       "      <td>Latte</td>\n",
       "      <td>Afternoon</td>\n",
       "      <td>Sat</td>\n",
       "      <td>Mar</td>\n",
       "      <td>6</td>\n",
       "      <td>3</td>\n",
       "    </tr>\n",
       "    <tr>\n",
       "      <th>3321</th>\n",
       "      <td>2025-03-01</td>\n",
       "      <td>2025-03-01 15:02:31.500</td>\n",
       "      <td>15</td>\n",
       "      <td>card</td>\n",
       "      <td>ANON-0000-0000-1152</td>\n",
       "      <td>25.96</td>\n",
       "      <td>Americano</td>\n",
       "      <td>Afternoon</td>\n",
       "      <td>Sat</td>\n",
       "      <td>Mar</td>\n",
       "      <td>6</td>\n",
       "      <td>3</td>\n",
       "    </tr>\n",
       "    <tr>\n",
       "      <th>...</th>\n",
       "      <td>...</td>\n",
       "      <td>...</td>\n",
       "      <td>...</td>\n",
       "      <td>...</td>\n",
       "      <td>...</td>\n",
       "      <td>...</td>\n",
       "      <td>...</td>\n",
       "      <td>...</td>\n",
       "      <td>...</td>\n",
       "      <td>...</td>\n",
       "      <td>...</td>\n",
       "      <td>...</td>\n",
       "    </tr>\n",
       "    <tr>\n",
       "      <th>3631</th>\n",
       "      <td>2025-03-23</td>\n",
       "      <td>2025-03-23 10:34:54.894</td>\n",
       "      <td>10</td>\n",
       "      <td>card</td>\n",
       "      <td>ANON-0000-0000-1158</td>\n",
       "      <td>35.76</td>\n",
       "      <td>Cappuccino</td>\n",
       "      <td>Morning</td>\n",
       "      <td>Sun</td>\n",
       "      <td>Mar</td>\n",
       "      <td>7</td>\n",
       "      <td>3</td>\n",
       "    </tr>\n",
       "    <tr>\n",
       "      <th>3632</th>\n",
       "      <td>2025-03-23</td>\n",
       "      <td>2025-03-23 14:43:37.362</td>\n",
       "      <td>14</td>\n",
       "      <td>card</td>\n",
       "      <td>ANON-0000-0000-1315</td>\n",
       "      <td>35.76</td>\n",
       "      <td>Cocoa</td>\n",
       "      <td>Afternoon</td>\n",
       "      <td>Sun</td>\n",
       "      <td>Mar</td>\n",
       "      <td>7</td>\n",
       "      <td>3</td>\n",
       "    </tr>\n",
       "    <tr>\n",
       "      <th>3633</th>\n",
       "      <td>2025-03-23</td>\n",
       "      <td>2025-03-23 14:44:16.864</td>\n",
       "      <td>14</td>\n",
       "      <td>card</td>\n",
       "      <td>ANON-0000-0000-1315</td>\n",
       "      <td>35.76</td>\n",
       "      <td>Cocoa</td>\n",
       "      <td>Afternoon</td>\n",
       "      <td>Sun</td>\n",
       "      <td>Mar</td>\n",
       "      <td>7</td>\n",
       "      <td>3</td>\n",
       "    </tr>\n",
       "    <tr>\n",
       "      <th>3634</th>\n",
       "      <td>2025-03-23</td>\n",
       "      <td>2025-03-23 15:47:28.723</td>\n",
       "      <td>15</td>\n",
       "      <td>card</td>\n",
       "      <td>ANON-0000-0000-1316</td>\n",
       "      <td>25.96</td>\n",
       "      <td>Americano</td>\n",
       "      <td>Afternoon</td>\n",
       "      <td>Sun</td>\n",
       "      <td>Mar</td>\n",
       "      <td>7</td>\n",
       "      <td>3</td>\n",
       "    </tr>\n",
       "    <tr>\n",
       "      <th>3635</th>\n",
       "      <td>2025-03-23</td>\n",
       "      <td>2025-03-23 18:11:38.635</td>\n",
       "      <td>18</td>\n",
       "      <td>card</td>\n",
       "      <td>ANON-0000-0000-1275</td>\n",
       "      <td>35.76</td>\n",
       "      <td>Latte</td>\n",
       "      <td>Night</td>\n",
       "      <td>Sun</td>\n",
       "      <td>Mar</td>\n",
       "      <td>7</td>\n",
       "      <td>3</td>\n",
       "    </tr>\n",
       "  </tbody>\n",
       "</table>\n",
       "<p>319 rows × 12 columns</p>\n",
       "</div>"
      ]
     },
     "execution_count": 23,
     "metadata": {},
     "output_type": "execute_result"
    }
   ],
   "execution_count": 23
  },
  {
   "metadata": {},
   "cell_type": "markdown",
   "source": [
    "## **Limpienado el dataset para el analisis**\n",
    "\n",
    "Debido a que se tuvo que simplificar el dataset, resultado a que para el analisis solo se necesitaba el último mes, se realizarán ahora las siguientes tareas:\n",
    "- Eliminar la columna 'Month_name' y 'Monthsort'."
   ],
   "id": "d5bac68210c65988"
  },
  {
   "metadata": {
    "ExecuteTime": {
     "end_time": "2025-09-28T00:03:32.822886Z",
     "start_time": "2025-09-28T00:03:32.777902Z"
    }
   },
   "cell_type": "code",
   "source": [
    "# Eliminando columnas\n",
    "df.drop(columns=['Month_name', 'Monthsort'], inplace=True)"
   ],
   "id": "a10148af1defaa37",
   "outputs": [],
   "execution_count": 24
  },
  {
   "metadata": {
    "ExecuteTime": {
     "end_time": "2025-09-28T00:03:38.507782Z",
     "start_time": "2025-09-28T00:03:38.497995Z"
    }
   },
   "cell_type": "code",
   "source": "df.columns",
   "id": "247c5c03faef9a6b",
   "outputs": [
    {
     "data": {
      "text/plain": [
       "Index(['date', 'datetime', 'hour_of_day', 'cash_type', 'card', 'money',\n",
       "       'coffee_name', 'Time_of_Day', 'Weekday', 'Weekdaysort'],\n",
       "      dtype='object')"
      ]
     },
     "execution_count": 25,
     "metadata": {},
     "output_type": "execute_result"
    }
   ],
   "execution_count": 25
  },
  {
   "metadata": {},
   "cell_type": "markdown",
   "source": "## **Resumen Ejecutivo**",
   "id": "f33a2d235f49a492"
  },
  {
   "metadata": {},
   "cell_type": "markdown",
   "source": "### Ventas totales del mes",
   "id": "c82f129bb423318b"
  },
  {
   "metadata": {
    "ExecuteTime": {
     "end_time": "2025-09-28T00:09:08.746793Z",
     "start_time": "2025-09-28T00:09:08.731274Z"
    }
   },
   "cell_type": "code",
   "source": "f\"Se han vendido en total ${df_LM['money'].sum()} MXN\"",
   "id": "35a089f0611dc72e",
   "outputs": [
    {
     "data": {
      "text/plain": [
       "'Se han vendido en total $9986.44 MXN'"
      ]
     },
     "execution_count": 29,
     "metadata": {},
     "output_type": "execute_result"
    }
   ],
   "execution_count": 29
  },
  {
   "metadata": {},
   "cell_type": "markdown",
   "source": "### % de crecimiento/disminución respecto al mes pasado",
   "id": "ef6e313070e4b29"
  },
  {
   "metadata": {
    "ExecuteTime": {
     "end_time": "2025-09-28T00:12:59.964925Z",
     "start_time": "2025-09-28T00:12:59.945690Z"
    }
   },
   "cell_type": "code",
   "source": [
    "# Creando el dataset del mes pasado\n",
    "df_LM2 = df[(df['date'].dt.year == 2025) & (df['date'].dt.month == 2)].copy()\n",
    "\n",
    "# Ventas del mes pasado\n",
    "print(f\"El mes anterior se vendieron en total ${df_LM2['money'].sum()} MXN\")\n",
    "\n",
    "# Haciendo el cálculo\n",
    "f\"El resultado fue de un: {round((df_LM['money'].sum() / df_LM2['money'].sum() - 1) * 100, 2)}%\""
   ],
   "id": "77d5d33f7a42b48",
   "outputs": [
    {
     "name": "stdout",
     "output_type": "stream",
     "text": [
      "El mes anterior se vendieron en total $13215.48 MXN\n"
     ]
    },
    {
     "data": {
      "text/plain": [
       "'El resultado fue de un: -24.43%'"
      ]
     },
     "execution_count": 32,
     "metadata": {},
     "output_type": "execute_result"
    }
   ],
   "execution_count": 32
  },
  {
   "metadata": {},
   "cell_type": "markdown",
   "source": "Como lo podemos apreciar en los cálculos, es último mes tuvo una caída de un 24.43% en las ventas, aunque quizas se debe a que todavía no concluye el mes de marzo.",
   "id": "e56378e67351ef9a"
  },
  {
   "metadata": {},
   "cell_type": "markdown",
   "source": "### Producto estrella",
   "id": "7b77019e2970cd3b"
  },
  {
   "metadata": {
    "ExecuteTime": {
     "end_time": "2025-09-28T00:21:24.141243Z",
     "start_time": "2025-09-28T00:21:24.134896Z"
    }
   },
   "cell_type": "code",
   "source": "df_LM.groupby('coffee_name')['money'].sum().sort_values(ascending=False)",
   "id": "fd592ce9dd9d7144",
   "outputs": [
    {
     "data": {
      "text/plain": [
       "coffee_name\n",
       "Americano              2647.92\n",
       "Latte                  2038.32\n",
       "Americano with Milk    1604.72\n",
       "Cappuccino             1537.68\n",
       "Cocoa                  1072.80\n",
       "Hot Chocolate           822.48\n",
       "Espresso                210.60\n",
       "Cortado                  51.92\n",
       "Name: money, dtype: float64"
      ]
     },
     "execution_count": 41,
     "metadata": {},
     "output_type": "execute_result"
    }
   ],
   "execution_count": 41
  },
  {
   "metadata": {},
   "cell_type": "markdown",
   "source": "Podemos presenciar que el producto estrella es el Americano, debido a que sus ventas fueron mayores a las de los otros productos, ganandole al Latte por $600.00 MXN, sin embargo, sería interesante ver como han cambiado estos a lo largo del tiempo, para verificar si es el producto estrella del café, o simplemente es temporal.",
   "id": "208fd8cf17c3cb7d"
  },
  {
   "metadata": {},
   "cell_type": "markdown",
   "source": "### Día más fuerte",
   "id": "6ce8766555414d1"
  },
  {
   "metadata": {
    "ExecuteTime": {
     "end_time": "2025-09-28T00:33:31.861420Z",
     "start_time": "2025-09-28T00:33:31.816215Z"
    }
   },
   "cell_type": "code",
   "source": [
    "df_DF = df_LM.groupby(['date'])['money'].sum().sort_values(ascending=False).reset_index()\n",
    "df_DF"
   ],
   "id": "382aad26747e3987",
   "outputs": [
    {
     "data": {
      "text/plain": [
       "         date   money\n",
       "0  2025-03-03  737.72\n",
       "1  2025-03-14  704.88\n",
       "2  2025-03-21  636.80\n",
       "3  2025-03-19  623.56\n",
       "4  2025-03-20  597.60\n",
       "5  2025-03-05  591.24\n",
       "6  2025-03-07  554.02\n",
       "7  2025-03-10  554.02\n",
       "8  2025-03-18  549.12\n",
       "9  2025-03-12  544.22\n",
       "10 2025-03-04  474.16\n",
       "11 2025-03-11  420.78\n",
       "12 2025-03-17  401.18\n",
       "13 2025-03-06  370.32\n",
       "14 2025-03-22  365.42\n",
       "15 2025-03-13  365.42\n",
       "16 2025-03-01  241.98\n",
       "17 2025-03-09  241.98\n",
       "18 2025-03-08  232.18\n",
       "19 2025-03-15  225.82\n",
       "20 2025-03-23  204.76\n",
       "21 2025-03-02  185.16\n",
       "22 2025-03-16  164.10"
      ],
      "text/html": [
       "<div>\n",
       "<style scoped>\n",
       "    .dataframe tbody tr th:only-of-type {\n",
       "        vertical-align: middle;\n",
       "    }\n",
       "\n",
       "    .dataframe tbody tr th {\n",
       "        vertical-align: top;\n",
       "    }\n",
       "\n",
       "    .dataframe thead th {\n",
       "        text-align: right;\n",
       "    }\n",
       "</style>\n",
       "<table border=\"1\" class=\"dataframe\">\n",
       "  <thead>\n",
       "    <tr style=\"text-align: right;\">\n",
       "      <th></th>\n",
       "      <th>date</th>\n",
       "      <th>money</th>\n",
       "    </tr>\n",
       "  </thead>\n",
       "  <tbody>\n",
       "    <tr>\n",
       "      <th>0</th>\n",
       "      <td>2025-03-03</td>\n",
       "      <td>737.72</td>\n",
       "    </tr>\n",
       "    <tr>\n",
       "      <th>1</th>\n",
       "      <td>2025-03-14</td>\n",
       "      <td>704.88</td>\n",
       "    </tr>\n",
       "    <tr>\n",
       "      <th>2</th>\n",
       "      <td>2025-03-21</td>\n",
       "      <td>636.80</td>\n",
       "    </tr>\n",
       "    <tr>\n",
       "      <th>3</th>\n",
       "      <td>2025-03-19</td>\n",
       "      <td>623.56</td>\n",
       "    </tr>\n",
       "    <tr>\n",
       "      <th>4</th>\n",
       "      <td>2025-03-20</td>\n",
       "      <td>597.60</td>\n",
       "    </tr>\n",
       "    <tr>\n",
       "      <th>5</th>\n",
       "      <td>2025-03-05</td>\n",
       "      <td>591.24</td>\n",
       "    </tr>\n",
       "    <tr>\n",
       "      <th>6</th>\n",
       "      <td>2025-03-07</td>\n",
       "      <td>554.02</td>\n",
       "    </tr>\n",
       "    <tr>\n",
       "      <th>7</th>\n",
       "      <td>2025-03-10</td>\n",
       "      <td>554.02</td>\n",
       "    </tr>\n",
       "    <tr>\n",
       "      <th>8</th>\n",
       "      <td>2025-03-18</td>\n",
       "      <td>549.12</td>\n",
       "    </tr>\n",
       "    <tr>\n",
       "      <th>9</th>\n",
       "      <td>2025-03-12</td>\n",
       "      <td>544.22</td>\n",
       "    </tr>\n",
       "    <tr>\n",
       "      <th>10</th>\n",
       "      <td>2025-03-04</td>\n",
       "      <td>474.16</td>\n",
       "    </tr>\n",
       "    <tr>\n",
       "      <th>11</th>\n",
       "      <td>2025-03-11</td>\n",
       "      <td>420.78</td>\n",
       "    </tr>\n",
       "    <tr>\n",
       "      <th>12</th>\n",
       "      <td>2025-03-17</td>\n",
       "      <td>401.18</td>\n",
       "    </tr>\n",
       "    <tr>\n",
       "      <th>13</th>\n",
       "      <td>2025-03-06</td>\n",
       "      <td>370.32</td>\n",
       "    </tr>\n",
       "    <tr>\n",
       "      <th>14</th>\n",
       "      <td>2025-03-22</td>\n",
       "      <td>365.42</td>\n",
       "    </tr>\n",
       "    <tr>\n",
       "      <th>15</th>\n",
       "      <td>2025-03-13</td>\n",
       "      <td>365.42</td>\n",
       "    </tr>\n",
       "    <tr>\n",
       "      <th>16</th>\n",
       "      <td>2025-03-01</td>\n",
       "      <td>241.98</td>\n",
       "    </tr>\n",
       "    <tr>\n",
       "      <th>17</th>\n",
       "      <td>2025-03-09</td>\n",
       "      <td>241.98</td>\n",
       "    </tr>\n",
       "    <tr>\n",
       "      <th>18</th>\n",
       "      <td>2025-03-08</td>\n",
       "      <td>232.18</td>\n",
       "    </tr>\n",
       "    <tr>\n",
       "      <th>19</th>\n",
       "      <td>2025-03-15</td>\n",
       "      <td>225.82</td>\n",
       "    </tr>\n",
       "    <tr>\n",
       "      <th>20</th>\n",
       "      <td>2025-03-23</td>\n",
       "      <td>204.76</td>\n",
       "    </tr>\n",
       "    <tr>\n",
       "      <th>21</th>\n",
       "      <td>2025-03-02</td>\n",
       "      <td>185.16</td>\n",
       "    </tr>\n",
       "    <tr>\n",
       "      <th>22</th>\n",
       "      <td>2025-03-16</td>\n",
       "      <td>164.10</td>\n",
       "    </tr>\n",
       "  </tbody>\n",
       "</table>\n",
       "</div>"
      ]
     },
     "execution_count": 46,
     "metadata": {},
     "output_type": "execute_result"
    }
   ],
   "execution_count": 46
  },
  {
   "metadata": {
    "ExecuteTime": {
     "end_time": "2025-09-28T00:53:01.684183Z",
     "start_time": "2025-09-28T00:53:01.562080Z"
    }
   },
   "cell_type": "code",
   "source": [
    "# Se realizará un gráfico para presenciar de una mejor manera el día más fuerte, debido a que la tabla no da mucha información, aunque si se logra er el día más fuerte\n",
    "plt.figure(figsize = (15, 6))\n",
    "plt.title(\"Ventas de café el mes de marzo\")\n",
    "sns.lineplot(data=df_DF, x='date', y='money', color='green', marker='o')\n",
    "plt.axhline(np.quantile(df_DF['money'], 0.75), color='blue', linestyle='--')\n",
    "plt.axhline(np.mean(df_DF['money']), color='red', linestyle='--')\n",
    "plt.axhline(np.median(df_DF['money']), color='green', linestyle='--')\n",
    "plt.axhline(np.quantile(df_DF['money'], 0.25), color='blue', linestyle='--')\n",
    "plt.show()"
   ],
   "id": "df2c652206c06ce8",
   "outputs": [
    {
     "data": {
      "text/plain": [
       "<Figure size 1500x600 with 1 Axes>"
      ],
      "image/png": "[encoded data removed]"
     },
     "metadata": {},
     "output_type": "display_data",
     "jetTransient": {
      "display_id": null
     }
    }
   ],
   "execution_count": 60
  },
  {
   "metadata": {},
   "cell_type": "markdown",
   "source": "Logrando analizar mejor los resultados presenciamos 2 fechas importantes. La segunda más importante es el 14 de marzo de 2025 debido a que se registro una venta total de `$704.88`, mientras que la fecha más importante fue el 03 de marzo de 2025 reportando una venta total de `$737.72`.",
   "id": "8f4aeea62bc7e56"
  },
  {
   "metadata": {},
   "cell_type": "markdown",
   "source": "Sin embargo podemos presenciar algo bueno y malo a la vez, hasta 50% de las ventas fueron por debajo de la media, mientras que el 75% de las ventas fueron arriba de la media, esto indica que las ventas de la tienda a lo largo del mes fueron sólidas, sin embargo, esto también refleja que hay días muy malos o muy flojos, por lo tanto sería importante analizar que ha pasado en esos días.",
   "id": "cd835ab578452245"
  },
  {
   "metadata": {},
   "cell_type": "markdown",
   "source": [
    "### Recomendación\n",
    "\n",
    "- La tienda tiene días muy sólidos de ventas, sin embargo, hay días extremadamente malos, esto podría explicar el gran bajo rendimiento que tuvo frente al mes pasado, por lo que recomiendo que se implementa una estrategia de ventas, ya sea a travez de una promoción o algo parecido, o tratar de aumentar las ventas de los productos menos vendidos, esto para aumentar esos bajos ingresos."
   ],
   "id": "f6318192404ce656"
  },
  {
   "metadata": {},
   "cell_type": "markdown",
   "source": "## **Ventas**",
   "id": "f07258368def34c0"
  },
  {
   "metadata": {
    "ExecuteTime": {
     "end_time": "2025-09-28T01:01:09.471675Z",
     "start_time": "2025-09-28T01:01:09.451007Z"
    }
   },
   "cell_type": "code",
   "source": "df_LM.columns",
   "id": "c7a04a271440131b",
   "outputs": [
    {
     "data": {
      "text/plain": [
       "Index(['date', 'datetime', 'hour_of_day', 'cash_type', 'card', 'money',\n",
       "       'coffee_name', 'Time_of_Day', 'Weekday', 'Month_name', 'Weekdaysort',\n",
       "       'Monthsort'],\n",
       "      dtype='object')"
      ]
     },
     "execution_count": 61,
     "metadata": {},
     "output_type": "execute_result"
    }
   ],
   "execution_count": 61
  },
  {
   "metadata": {},
   "cell_type": "markdown",
   "source": "### Ingresos por dia y semana",
   "id": "28e7be7a2a33346a"
  },
  {
   "metadata": {
    "ExecuteTime": {
     "end_time": "2025-09-28T01:47:52.748532Z",
     "start_time": "2025-09-28T01:47:52.744417Z"
    }
   },
   "cell_type": "code",
   "source": [
    "# Ingresos por día de la semana\n",
    "df_DW = df_LM.groupby('Weekday')['money'].sum().sort_values(ascending=False).reset_index()"
   ],
   "id": "a2e0367c7649a99e",
   "outputs": [],
   "execution_count": 67
  },
  {
   "metadata": {
    "ExecuteTime": {
     "end_time": "2025-09-28T01:48:59.959761Z",
     "start_time": "2025-09-28T01:48:59.937893Z"
    }
   },
   "cell_type": "code",
   "source": [
    "# Ordenando datos\n",
    "weekday_orden = ['Mon', 'Tue', 'Wed', 'Thu', 'Fri', 'Sat', 'Sun']\n",
    "\n",
    "# Convirtiendo a la columna 'Weekday' tipo categórico con el orden especifico\n",
    "df_DW['Weekday'] = pd.Categorical(df_DW['Weekday'], categories=weekday_orden, ordered=True)\n",
    "\n",
    "df_DW = df_DW.sort_values('Weekday')"
   ],
   "id": "669436c2da1c508",
   "outputs": [],
   "execution_count": 69
  },
  {
   "metadata": {
    "ExecuteTime": {
     "end_time": "2025-09-28T01:49:06.474264Z",
     "start_time": "2025-09-28T01:49:06.465460Z"
    }
   },
   "cell_type": "code",
   "source": "df_DW",
   "id": "37339d0f3f9ce600",
   "outputs": [
    {
     "data": {
      "text/plain": [
       "  Weekday    money\n",
       "2     Mon  1692.92\n",
       "3     Tue  1444.06\n",
       "1     Wed  1759.02\n",
       "4     Thu  1333.34\n",
       "0     Fri  1895.70\n",
       "5     Sat  1065.40\n",
       "6     Sun   796.00"
      ],
      "text/html": [
       "<div>\n",
       "<style scoped>\n",
       "    .dataframe tbody tr th:only-of-type {\n",
       "        vertical-align: middle;\n",
       "    }\n",
       "\n",
       "    .dataframe tbody tr th {\n",
       "        vertical-align: top;\n",
       "    }\n",
       "\n",
       "    .dataframe thead th {\n",
       "        text-align: right;\n",
       "    }\n",
       "</style>\n",
       "<table border=\"1\" class=\"dataframe\">\n",
       "  <thead>\n",
       "    <tr style=\"text-align: right;\">\n",
       "      <th></th>\n",
       "      <th>Weekday</th>\n",
       "      <th>money</th>\n",
       "    </tr>\n",
       "  </thead>\n",
       "  <tbody>\n",
       "    <tr>\n",
       "      <th>2</th>\n",
       "      <td>Mon</td>\n",
       "      <td>1692.92</td>\n",
       "    </tr>\n",
       "    <tr>\n",
       "      <th>3</th>\n",
       "      <td>Tue</td>\n",
       "      <td>1444.06</td>\n",
       "    </tr>\n",
       "    <tr>\n",
       "      <th>1</th>\n",
       "      <td>Wed</td>\n",
       "      <td>1759.02</td>\n",
       "    </tr>\n",
       "    <tr>\n",
       "      <th>4</th>\n",
       "      <td>Thu</td>\n",
       "      <td>1333.34</td>\n",
       "    </tr>\n",
       "    <tr>\n",
       "      <th>0</th>\n",
       "      <td>Fri</td>\n",
       "      <td>1895.70</td>\n",
       "    </tr>\n",
       "    <tr>\n",
       "      <th>5</th>\n",
       "      <td>Sat</td>\n",
       "      <td>1065.40</td>\n",
       "    </tr>\n",
       "    <tr>\n",
       "      <th>6</th>\n",
       "      <td>Sun</td>\n",
       "      <td>796.00</td>\n",
       "    </tr>\n",
       "  </tbody>\n",
       "</table>\n",
       "</div>"
      ]
     },
     "execution_count": 70,
     "metadata": {},
     "output_type": "execute_result"
    }
   ],
   "execution_count": 70
  },
  {
   "metadata": {},
   "cell_type": "markdown",
   "source": "Los ingresos entre semana son estables, sin embargo, podemos apreciar una caída en las ventas en el fin de semana, lo cual es extraño, ya que al menos deberían de ser los días con ventas más fuertes, lo cual sería una cuestión a investigar.",
   "id": "9594d722951e187d"
  },
  {
   "metadata": {},
   "cell_type": "markdown",
   "source": "### Ticket promedio",
   "id": "d7eef71267714a20"
  },
  {
   "metadata": {
    "ExecuteTime": {
     "end_time": "2025-09-28T01:59:19.635606Z",
     "start_time": "2025-09-28T01:59:19.628399Z"
    }
   },
   "cell_type": "code",
   "source": "f\"El ticket promedio por cliente es de: ${round(df_LM['money'].mean(), 2)} MXN\"",
   "id": "89df6fd473252e92",
   "outputs": [
    {
     "data": {
      "text/plain": [
       "'El ticket promedio por cliente es de: $31.31 MXN'"
      ]
     },
     "execution_count": 73,
     "metadata": {},
     "output_type": "execute_result"
    }
   ],
   "execution_count": 73
  },
  {
   "metadata": {},
   "cell_type": "markdown",
   "source": "### Número de clientes atendidos",
   "id": "b5d3f9409f95bd11"
  },
  {
   "metadata": {
    "ExecuteTime": {
     "end_time": "2025-09-28T02:22:51.897791Z",
     "start_time": "2025-09-28T02:22:51.873778Z"
    }
   },
   "cell_type": "code",
   "source": [
    "# Número único de clientes atendidos\n",
    "df_LM['card'].nunique()"
   ],
   "id": "73274e9c3e26a04c",
   "outputs": [
    {
     "data": {
      "text/plain": [
       "113"
      ]
     },
     "execution_count": 74,
     "metadata": {},
     "output_type": "execute_result"
    }
   ],
   "execution_count": 74
  },
  {
   "metadata": {
    "ExecuteTime": {
     "end_time": "2025-09-28T02:23:37.750989Z",
     "start_time": "2025-09-28T02:23:37.742031Z"
    }
   },
   "cell_type": "code",
   "source": [
    "# Número de clientes totales atendidos\n",
    "len(df_LM['card'])"
   ],
   "id": "c6c297f00e438dfd",
   "outputs": [
    {
     "data": {
      "text/plain": [
       "319"
      ]
     },
     "execution_count": 76,
     "metadata": {},
     "output_type": "execute_result"
    }
   ],
   "execution_count": 76
  },
  {
   "metadata": {},
   "cell_type": "markdown",
   "source": "Podemos que podemos ver 113 clientes únicos, y que algunos de ellos regresan a nuestro café, debido a que en total hemos atendido a 319 clientes, lo cual es algo muy bueno, ya que les gusta nuestros productos y regresan por más.",
   "id": "43733d5f53bd1bb"
  }
 ],
 "metadata": {
  "kernelspec": {
   "display_name": "Python 3",
   "language": "python",
   "name": "python3"
  },
  "language_info": {
   "codemirror_mode": {
    "name": "ipython",
    "version": 2
   },
   "file_extension": ".py",
   "mimetype": "text/x-python",
   "name": "python",
   "nbconvert_exporter": "python",
   "pygments_lexer": "ipython2",
   "version": "2.7.6"
  }
 },
 "nbformat": 4,
 "nbformat_minor": 5
}
